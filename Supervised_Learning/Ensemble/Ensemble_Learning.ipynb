{
 "cells": [
  {
   "cell_type": "markdown",
   "id": "c9a1e5db",
   "metadata": {},
   "source": [
    "# Ensemble Learning"
   ]
  },
  {
   "cell_type": "markdown",
   "id": "981181cb",
   "metadata": {},
   "source": [
    "## Applications on Datasets\n",
    "### Classifying application\n",
    "- Bagging: Bagging Regression \n",
    "- Random Forest\n",
    "- Adaboosting\n",
    "### Data: Customer_data\n"
   ]
  },
  {
   "cell_type": "markdown",
   "id": "c979fcb2",
   "metadata": {},
   "source": [
    "### Bagging"
   ]
  },
  {
   "cell_type": "code",
   "execution_count": 68,
   "id": "072b1bfe",
   "metadata": {},
   "outputs": [
    {
     "name": "stdout",
     "output_type": "stream",
     "text": [
      "Bagging Classification Report\n",
      "              precision    recall  f1-score   support\n",
      "\n",
      "           0       0.76      1.00      0.87       172\n",
      "           1       0.00      0.00      0.00        53\n",
      "\n",
      "    accuracy                           0.76       225\n",
      "   macro avg       0.38      0.50      0.43       225\n",
      "weighted avg       0.58      0.76      0.66       225\n",
      "\n",
      "Confusion Matrix\n",
      "[[172   0]\n",
      " [ 53   0]]\n",
      "Accuracy Score\n",
      "0.7644444444444445\n"
     ]
    },
    {
     "name": "stderr",
     "output_type": "stream",
     "text": [
      "/opt/anaconda3/lib/python3.9/site-packages/sklearn/metrics/_classification.py:1344: UndefinedMetricWarning: Precision and F-score are ill-defined and being set to 0.0 in labels with no predicted samples. Use `zero_division` parameter to control this behavior.\n",
      "  _warn_prf(average, modifier, msg_start, len(result))\n",
      "/opt/anaconda3/lib/python3.9/site-packages/sklearn/metrics/_classification.py:1344: UndefinedMetricWarning: Precision and F-score are ill-defined and being set to 0.0 in labels with no predicted samples. Use `zero_division` parameter to control this behavior.\n",
      "  _warn_prf(average, modifier, msg_start, len(result))\n",
      "/opt/anaconda3/lib/python3.9/site-packages/sklearn/metrics/_classification.py:1344: UndefinedMetricWarning: Precision and F-score are ill-defined and being set to 0.0 in labels with no predicted samples. Use `zero_division` parameter to control this behavior.\n",
      "  _warn_prf(average, modifier, msg_start, len(result))\n"
     ]
    },
    {
     "data": {
      "image/png": "[encoded data removed]",
      "text/plain": [
       "<Figure size 1000x700 with 2 Axes>"
      ]
     },
     "metadata": {},
     "output_type": "display_data"
    }
   ],
   "source": [
    "import pandas as pd\n",
    "from sklearn.model_selection import train_test_split\n",
    "from sklearn.ensemble import BaggingClassifier\n",
    "from sklearn.tree import DecisionTreeClassifier\n",
    "from sklearn.metrics import classification_report, confusion_matrix, accuracy_score\n",
    "\n",
    "# Load the CSV data\n",
    "df = pd.read_csv('customer_data.csv')\n",
    "\n",
    "# Define features and target\n",
    "X = df[['fea_1', 'fea_3', 'fea_5', 'fea_6', 'fea_7', 'fea_9']]\n",
    "y = df['label']\n",
    "\n",
    "# Split data into train and test sets\n",
    "X_train, X_test, y_train, y_test = train_test_split(X, y, test_size=0.2, random_state=42)\n",
    "\n",
    "# Define BaggingClassifier model\n",
    "bag_clf = BaggingClassifier(DecisionTreeClassifier(max_depth=1), n_estimators=500, bootstrap=True, n_jobs=-1, random_state=42)\n",
    "\n",
    "# Fit the model\n",
    "bag_clf.fit(X_train, y_train)\n",
    "\n",
    "# Predict\n",
    "y_pred = bag_clf.predict(X_test)\n",
    "\n",
    "# Evaluate\n",
    "print(\"Bagging Classification Report\")\n",
    "print(classification_report(y_test, y_pred))\n",
    "\n",
    "print(\"Confusion Matrix\")\n",
    "print(confusion_matrix(y_test, y_pred))\n",
    "\n",
    "print(\"Accuracy Score\")\n",
    "print(accuracy_score(y_test, y_pred))\n",
    "\n",
    "import seaborn as sns\n",
    "\n",
    "# Compute confusion matrix\n",
    "confusion_mat = confusion_matrix(y_test, y_pred)\n",
    "\n",
    "# Plot confusion matrix\n",
    "plt.figure(figsize=(10, 7))\n",
    "sns.heatmap(confusion_mat, annot=True, fmt='d', cmap='Blues')\n",
    "plt.xlabel('Predicted')\n",
    "plt.ylabel('Actual')\n",
    "plt.show()"
   ]
  },
  {
   "cell_type": "markdown",
   "id": "e32b250e",
   "metadata": {},
   "source": [
    "## Random Forest\n",
    "\n",
    "Here is the model that applys the Random Forest which constructs multiple decision trees at training time and outputs the mean prediction of the individual trees for regression problems. "
   ]
  },
  {
   "cell_type": "code",
   "execution_count": 69,
   "id": "ff39be2f",
   "metadata": {},
   "outputs": [
    {
     "name": "stdout",
     "output_type": "stream",
     "text": [
      "Random Forest Classification Report\n",
      "              precision    recall  f1-score   support\n",
      "\n",
      "           0       0.76      1.00      0.87       172\n",
      "           1       0.00      0.00      0.00        53\n",
      "\n",
      "    accuracy                           0.76       225\n",
      "   macro avg       0.38      0.50      0.43       225\n",
      "weighted avg       0.58      0.76      0.66       225\n",
      "\n",
      "Confusion Matrix\n",
      "[[172   0]\n",
      " [ 53   0]]\n",
      "Accuracy Score\n",
      "0.7644444444444445\n"
     ]
    },
    {
     "name": "stderr",
     "output_type": "stream",
     "text": [
      "/opt/anaconda3/lib/python3.9/site-packages/sklearn/metrics/_classification.py:1344: UndefinedMetricWarning: Precision and F-score are ill-defined and being set to 0.0 in labels with no predicted samples. Use `zero_division` parameter to control this behavior.\n",
      "  _warn_prf(average, modifier, msg_start, len(result))\n",
      "/opt/anaconda3/lib/python3.9/site-packages/sklearn/metrics/_classification.py:1344: UndefinedMetricWarning: Precision and F-score are ill-defined and being set to 0.0 in labels with no predicted samples. Use `zero_division` parameter to control this behavior.\n",
      "  _warn_prf(average, modifier, msg_start, len(result))\n",
      "/opt/anaconda3/lib/python3.9/site-packages/sklearn/metrics/_classification.py:1344: UndefinedMetricWarning: Precision and F-score are ill-defined and being set to 0.0 in labels with no predicted samples. Use `zero_division` parameter to control this behavior.\n",
      "  _warn_prf(average, modifier, msg_start, len(result))\n"
     ]
    },
    {
     "data": {
      "image/png": "[encoded data removed]",
      "text/plain": [
       "<Figure size 1000x700 with 2 Axes>"
      ]
     },
     "metadata": {},
     "output_type": "display_data"
    }
   ],
   "source": [
    "import pandas as pd\n",
    "from sklearn.model_selection import train_test_split\n",
    "from sklearn.ensemble import RandomForestClassifier\n",
    "from sklearn.metrics import classification_report, confusion_matrix, accuracy_score\n",
    "\n",
    "# Load the CSV data\n",
    "df = pd.read_csv('customer_data.csv')\n",
    "\n",
    "# Define features and target\n",
    "X = df[['fea_1', 'fea_3', 'fea_5', 'fea_6', 'fea_7', 'fea_9']]\n",
    "y = df['label']\n",
    "\n",
    "# Split data into train and test sets\n",
    "X_train, X_test, y_train, y_test = train_test_split(X, y, test_size=0.2, random_state=42)\n",
    "\n",
    "# Define RandomForestClassifier model\n",
    "rf_clf = RandomForestClassifier(n_estimators=500, max_depth=1, n_jobs=-1, random_state=42)\n",
    "\n",
    "# Fit the model\n",
    "rf_clf.fit(X_train, y_train)\n",
    "\n",
    "# Predict\n",
    "y_pred = rf_clf.predict(X_test)\n",
    "\n",
    "# Evaluate\n",
    "print(\"Random Forest Classification Report\")\n",
    "print(classification_report(y_test, y_pred))\n",
    "\n",
    "print(\"Confusion Matrix\")\n",
    "print(confusion_matrix(y_test, y_pred))\n",
    "\n",
    "print(\"Accuracy Score\")\n",
    "print(accuracy_score(y_test, y_pred))\n",
    "\n",
    "import seaborn as sns\n",
    "\n",
    "# Compute confusion matrix\n",
    "confusion_mat = confusion_matrix(y_test, y_pred)\n",
    "\n",
    "# Plot confusion matrix\n",
    "plt.figure(figsize=(10, 7))\n",
    "sns.heatmap(confusion_mat, annot=True, fmt='d', cmap='Blues')\n",
    "plt.xlabel('Predicted')\n",
    "plt.ylabel('Actual')\n",
    "plt.show()"
   ]
  },
  {
   "cell_type": "markdown",
   "id": "b49f44de",
   "metadata": {},
   "source": [
    "### Boosting"
   ]
  },
  {
   "cell_type": "code",
   "execution_count": 70,
   "id": "7580c1f5",
   "metadata": {},
   "outputs": [
    {
     "name": "stdout",
     "output_type": "stream",
     "text": [
      "AdaBoost Classification Report\n",
      "              precision    recall  f1-score   support\n",
      "\n",
      "           0       0.76      1.00      0.87       172\n",
      "           1       0.00      0.00      0.00        53\n",
      "\n",
      "    accuracy                           0.76       225\n",
      "   macro avg       0.38      0.50      0.43       225\n",
      "weighted avg       0.58      0.76      0.66       225\n",
      "\n",
      "Confusion Matrix\n",
      "[[172   0]\n",
      " [ 53   0]]\n",
      "Accuracy Score\n",
      "0.7644444444444445\n",
      "              precision    recall  f1-score   support\n",
      "\n",
      "           0       0.76      1.00      0.87       172\n",
      "           1       0.00      0.00      0.00        53\n",
      "\n",
      "    accuracy                           0.76       225\n",
      "   macro avg       0.38      0.50      0.43       225\n",
      "weighted avg       0.58      0.76      0.66       225\n",
      "\n"
     ]
    },
    {
     "name": "stderr",
     "output_type": "stream",
     "text": [
      "/opt/anaconda3/lib/python3.9/site-packages/sklearn/metrics/_classification.py:1344: UndefinedMetricWarning: Precision and F-score are ill-defined and being set to 0.0 in labels with no predicted samples. Use `zero_division` parameter to control this behavior.\n",
      "  _warn_prf(average, modifier, msg_start, len(result))\n",
      "/opt/anaconda3/lib/python3.9/site-packages/sklearn/metrics/_classification.py:1344: UndefinedMetricWarning: Precision and F-score are ill-defined and being set to 0.0 in labels with no predicted samples. Use `zero_division` parameter to control this behavior.\n",
      "  _warn_prf(average, modifier, msg_start, len(result))\n",
      "/opt/anaconda3/lib/python3.9/site-packages/sklearn/metrics/_classification.py:1344: UndefinedMetricWarning: Precision and F-score are ill-defined and being set to 0.0 in labels with no predicted samples. Use `zero_division` parameter to control this behavior.\n",
      "  _warn_prf(average, modifier, msg_start, len(result))\n"
     ]
    },
    {
     "data": {
      "image/png": "[encoded data removed]",
      "text/plain": [
       "<Figure size 1000x700 with 2 Axes>"
      ]
     },
     "metadata": {},
     "output_type": "display_data"
    }
   ],
   "source": [
    "import pandas as pd\n",
    "from sklearn.model_selection import train_test_split\n",
    "from sklearn.ensemble import AdaBoostClassifier\n",
    "from sklearn.tree import DecisionTreeClassifier\n",
    "from sklearn.metrics import classification_report, confusion_matrix, accuracy_score\n",
    "import seaborn as sns\n",
    "\n",
    "# Load the CSV data\n",
    "df = pd.read_csv('customer_data.csv')\n",
    "\n",
    "# Define features and target\n",
    "X = df[['fea_1', 'fea_3', 'fea_5', 'fea_6', 'fea_7', 'fea_9']]\n",
    "y = df['label']\n",
    "\n",
    "# Split data into train and test sets\n",
    "X_train, X_test, y_train, y_test = train_test_split(X, y, test_size=0.2, random_state=42)\n",
    "\n",
    "# Define AdaBoostClassifier model\n",
    "ada_model = AdaBoostClassifier(DecisionTreeClassifier(max_depth=1), n_estimators=500, random_state=42)\n",
    "\n",
    "# Fit the model\n",
    "ada_model.fit(X_train, y_train)\n",
    "\n",
    "# Predict\n",
    "y_pred = ada_model.predict(X_test)\n",
    "\n",
    "# Evaluate\n",
    "print(\"AdaBoost Classification Report\")\n",
    "print(classification_report(y_test, y_pred))\n",
    "\n",
    "print(\"Confusion Matrix\")\n",
    "print(confusion_matrix(y_test, y_pred))\n",
    "\n",
    "print(\"Accuracy Score\")\n",
    "print(accuracy_score(y_test, y_pred))\n",
    "print(classification_report(y_test, y_pred, zero_division=0))\n",
    "\n",
    "# Compute confusion matrix\n",
    "confusion_mat = confusion_matrix(y_test, y_pred)\n",
    "# Plot confusion matrix\n",
    "plt.figure(figsize=(10, 7))\n",
    "sns.heatmap(confusion_mat, annot=True, fmt='d', cmap='Blues')\n",
    "plt.xlabel('Predicted')\n",
    "plt.ylabel('Actual')\n",
    "plt.show()\n",
    "\n"
   ]
  },
  {
   "cell_type": "markdown",
   "id": "2118bd0e",
   "metadata": {},
   "source": [
    "We can find the classifier of these three models have obtained the same results.\n",
    "Here are the importance of features of each model"
   ]
  },
  {
   "cell_type": "markdown",
   "id": "c2b913e3",
   "metadata": {},
   "source": [
    "* Inportance of Feature in Random forest and Boosting"
   ]
  },
  {
   "cell_type": "code",
   "execution_count": 71,
   "id": "eb8ebcfd",
   "metadata": {},
   "outputs": [
    {
     "name": "stdout",
     "output_type": "stream",
     "text": [
      "Random Forest Feature Importances:\n",
      "fea_1: 0.194\n",
      "fea_3: 0.252\n",
      "fea_5: 0.054\n",
      "fea_6: 0.178\n",
      "fea_7: 0.164\n",
      "fea_9: 0.158\n",
      "\n",
      "AdaBoost Feature Importances:\n",
      "fea_1: 0.052\n",
      "fea_3: 0.27\n",
      "fea_5: 0.036\n",
      "fea_6: 0.376\n",
      "fea_7: 0.11\n",
      "fea_9: 0.156\n"
     ]
    }
   ],
   "source": [
    "import pandas as pd\n",
    "from sklearn.model_selection import train_test_split\n",
    "from sklearn.ensemble import BaggingClassifier, RandomForestClassifier, AdaBoostClassifier\n",
    "from sklearn.tree import DecisionTreeClassifier\n",
    "\n",
    "# Load the CSV data\n",
    "df = pd.read_csv('customer_data.csv')\n",
    "\n",
    "# Define features and target\n",
    "X = df[['fea_1', 'fea_3', 'fea_5', 'fea_6', 'fea_7', 'fea_9']]\n",
    "y = df['label']\n",
    "\n",
    "# Split data into train and test sets\n",
    "X_train, X_test, y_train, y_test = train_test_split(X, y, test_size=0.2, random_state=42)\n",
    "\n",
    "# BaggingClassifier\n",
    "bag_clf = BaggingClassifier(DecisionTreeClassifier(max_depth=1), n_estimators=500, bootstrap=True, n_jobs=-1, random_state=42)\n",
    "bag_clf.fit(X_train, y_train)\n",
    "\n",
    "# RandomForestClassifier\n",
    "rf_clf = RandomForestClassifier(n_estimators=500, max_depth=1, n_jobs=-1, random_state=42)\n",
    "rf_clf.fit(X_train, y_train)\n",
    "\n",
    "# AdaBoostClassifier\n",
    "ada_clf = AdaBoostClassifier(DecisionTreeClassifier(max_depth=1), n_estimators=500, learning_rate=0.1, random_state=42)\n",
    "ada_clf.fit(X_train, y_train)\n",
    "\n",
    "# Extract feature importances from each model\n",
    "# Note: BaggingClassifier does not have a built-in method for feature importances\n",
    "rf_importances = rf_clf.feature_importances_\n",
    "ada_importances = ada_clf.feature_importances_\n",
    "\n",
    "# Print feature importances\n",
    "print(\"Random Forest Feature Importances:\")\n",
    "for feature, importance in zip(X.columns, rf_importances):\n",
    "    print(f\"{feature}: {importance}\")\n",
    "\n",
    "print(\"\\nAdaBoost Feature Importances:\")\n",
    "for feature, importance in zip(X.columns, ada_importances):\n",
    "    print(f\"{feature}: {importance}\")\n"
   ]
  },
  {
   "cell_type": "markdown",
   "id": "bc07c967",
   "metadata": {},
   "source": [
    "* Inportance of Feature by aggregating the feature importances from the base estimators "
   ]
  },
  {
   "cell_type": "code",
   "execution_count": 72,
   "id": "f6a39f39",
   "metadata": {},
   "outputs": [
    {
     "name": "stdout",
     "output_type": "stream",
     "text": [
      "Bagging Feature Importances:\n",
      "fea_1: 0.182\n",
      "fea_3: 0.438\n",
      "fea_5: 0.036\n",
      "fea_6: 0.122\n",
      "fea_7: 0.102\n",
      "fea_9: 0.12\n"
     ]
    }
   ],
   "source": [
    "import numpy as np\n",
    "\n",
    "# Aggregate feature importances from BaggingClassifier's base estimators\n",
    "bag_importances = np.mean([estimator.feature_importances_ for estimator in bag_clf.estimators_], axis=0)\n",
    "\n",
    "print(\"Bagging Feature Importances:\")\n",
    "for feature, importance in zip(X.columns, bag_importances):\n",
    "    print(f\"{feature}: {importance}\")\n"
   ]
  }
 ],
 "metadata": {
  "kernelspec": {
   "display_name": "Python 3 (ipykernel)",
   "language": "python",
   "name": "python3"
  },
  "language_info": {
   "codemirror_mode": {
    "name": "ipython",
    "version": 3
   },
   "file_extension": ".py",
   "mimetype": "text/x-python",
   "name": "python",
   "nbconvert_exporter": "python",
   "pygments_lexer": "ipython3",
   "version": "3.9.13"
  }
 },
 "nbformat": 4,
 "nbformat_minor": 5
}
